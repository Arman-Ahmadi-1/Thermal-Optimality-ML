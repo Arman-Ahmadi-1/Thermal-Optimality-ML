{
 "cells": [
  {
   "cell_type": "markdown",
   "metadata": {
    "id": "JwKPv04oe1om"
   },
   "source": [
    "## Interpretable ML for Thermal Optimality Analysis\n",
    "\n",
    "### Arman Ahmadi\n",
    "\n",
    "https://doi.org/10.1029/2024JH000445"
   ]
  },
  {
   "cell_type": "markdown",
   "metadata": {
    "id": "BSgv3yPDfRim"
   },
   "source": [
    "### Setup"
   ]
  },
  {
   "cell_type": "markdown",
   "metadata": {
    "id": "orcoeqVHiOBn"
   },
   "source": [
    "#### Importing Modules and Libraries"
   ]
  },
  {
   "cell_type": "code",
   "execution_count": null,
   "metadata": {},
   "outputs": [],
   "source": [
    "# --- Notebook setup: paths, imports, seeds ---\n",
    "from pathlib import Path\n",
    "import os, random\n",
    "import numpy as np\n",
    "import pandas as pd\n",
    "\n",
    "# Paths (repo-relative)\n",
    "ROOT = Path(__file__).resolve().parents[1] if\\\n",
    "'__file__' in globals() else\\\n",
    "      Path.cwd().resolve().parent\n",
    "DATA_DIR = ROOT / 'data' / 'sample'\n",
    "OUT_DIR = ROOT / 'outputs'\n",
    "OUT_DIR.mkdir(exist_ok=True, parents=True)\n",
    "\n",
    "# Reproducibility\n",
    "SEED = 42\n",
    "random.seed(SEED)\n",
    "np.random.seed(SEED)\n",
    "\n",
    "# Core plotting\n",
    "import matplotlib.pyplot as plt\n",
    "\n",
    "# ML\n",
    "from sklearn.metrics import mean_absolute_error, r2_score\n",
    "\n",
    "# Remove warnings\n",
    "import warnings\n",
    "warnings.filterwarnings(\"ignore\")\n"
   ]
  },
  {
   "cell_type": "code",
   "execution_count": null,
   "metadata": {
    "executionInfo": {
     "elapsed": 4390,
     "status": "ok",
     "timestamp": 1751411069322,
     "user": {
      "displayName": "Arman Ahmadi",
      "userId": "01898720231371550914"
     },
     "user_tz": 420
    },
    "id": "lvDE4YgZfBe2"
   },
   "outputs": [],
   "source": [
    "# Standard Libraries\n",
    "from datetime import datetime # time formatting\n",
    "from tqdm.notebook import tqdm # loops\n",
    "import glob\n",
    "\n",
    "# Data Science Libraries\n",
    "import sklearn as skl\n",
    "\n",
    "# Visualization Libraries\n",
    "import seaborn as sns"
   ]
  },
  {
   "cell_type": "markdown",
   "metadata": {
    "id": "r69Pu_vj60rc"
   },
   "source": [
    "### Data Importing and Preprocessing"
   ]
  },
  {
   "cell_type": "markdown",
   "metadata": {
    "id": "UTGnbjMX7Fzo"
   },
   "source": [
    "#### Import Data"
   ]
  },
  {
   "cell_type": "code",
   "execution_count": null,
   "metadata": {
    "colab": {
     "base_uri": "https://localhost:8080/",
     "height": 49,
     "referenced_widgets": [
      "38a12a4837bb4d4cac49e0654f91f4f5",
      "0b00bbf8f2d649649d17b04055eab07b",
      "3b4ee87a31014401b45c6eea90683b32",
      "af8150fe94914131899a15ef7efb2330",
      "c30ad9f46e944a64bee3fba432325444",
      "1a8806af1a634b6c8c8bfa172f806d4f",
      "0a8df1fbe32c494799e4f79b84fe9d5f",
      "5f60602d143f476c9ff8fac82e097f48",
      "dd6ee13e526b42ada46ac72bd2d1d0ef",
      "8a8d782b778b4035bb7e1b338a478a51",
      "bf0c173b7f534fdd8b5319ee360020b8"
     ]
    },
    "executionInfo": {
     "elapsed": 35703,
     "status": "ok",
     "timestamp": 1751411163255,
     "user": {
      "displayName": "Arman Ahmadi",
      "userId": "01898720231371550914"
     },
     "user_tz": 420
    },
    "id": "djvCh4DD4fnB",
    "outputId": "bbd61db6-3432-40ac-d243-d0e2715dedc2"
   },
   "outputs": [],
   "source": [
    "path = DATA_DIR / 'sites'\n",
    "\n",
    "# Make a list of all CSV files in the path\n",
    "all_files = glob.glob(str(path / '*.csv'))\n",
    "\n",
    "# Make a list of pd DataFrames\n",
    "sites = []\n",
    "\n",
    "for filename in tqdm(all_files):\n",
    "    df = pd.read_csv(filename, index_col=None, header=0)\n",
    "\n",
    "    # Extract SiteID from the filename (assuming the format is \"AMF_XX-XXX_...\")\n",
    "    try:\n",
    "        site_id = Path(filename).stem.split('_')[1]\n",
    "    except IndexError:\n",
    "        site_id = 'UNKNOWN'\n",
    "\n",
    "    # Add a new column \"SiteID\" with the extracted value\n",
    "    df['SiteID'] = site_id\n",
    "\n",
    "    sites.append(df)"
   ]
  },
  {
   "cell_type": "code",
   "execution_count": null,
   "metadata": {
    "executionInfo": {
     "elapsed": 1501,
     "status": "ok",
     "timestamp": 1751411166218,
     "user": {
      "displayName": "Arman Ahmadi",
      "userId": "01898720231371550914"
     },
     "user_tz": 420
    },
    "id": "8eIctDwwDH_R"
   },
   "outputs": [],
   "source": [
    "# Concatenate all DFs into one\n",
    "\n",
    "Allsites1 = pd.concat(sites, axis=0, ignore_index=True)"
   ]
  },
  {
   "cell_type": "code",
   "execution_count": null,
   "metadata": {
    "colab": {
     "base_uri": "https://localhost:8080/"
    },
    "executionInfo": {
     "elapsed": 20,
     "status": "ok",
     "timestamp": 1751411176792,
     "user": {
      "displayName": "Arman Ahmadi",
      "userId": "01898720231371550914"
     },
     "user_tz": 420
    },
    "id": "TMCvr9Psx3Qy",
    "outputId": "c5974597-801c-42d5-f42e-d34b7c088c01"
   },
   "outputs": [],
   "source": [
    "print('Number of daily samples:', len(Allsites1))"
   ]
  },
  {
   "cell_type": "markdown",
   "metadata": {
    "id": "Z83bQHg_84GO"
   },
   "source": [
    "#### Selecting and Renaming Features"
   ]
  },
  {
   "cell_type": "code",
   "execution_count": null,
   "metadata": {
    "executionInfo": {
     "elapsed": 53,
     "status": "ok",
     "timestamp": 1751411199267,
     "user": {
      "displayName": "Arman Ahmadi",
      "userId": "01898720231371550914"
     },
     "user_tz": 420
    },
    "id": "FAz9T9i8SX3J"
   },
   "outputs": [],
   "source": [
    "# Select columns\n",
    "\n",
    "Allsites2 = Allsites1[['TIMESTAMP', 'SiteID', 'TA_F', 'SW_IN_F', 'LW_IN_F', 'LW_OUT', 'VPD_F', 'P_F',\n",
    "                           'WS_F', 'CO2_F_MDS', 'LE_F_MDS', 'H_F_MDS',\n",
    "                              'GPP_NT_VUT_REF', 'GPP_DT_VUT_REF']]"
   ]
  },
  {
   "cell_type": "code",
   "execution_count": null,
   "metadata": {
    "executionInfo": {
     "elapsed": 17,
     "status": "ok",
     "timestamp": 1751411202534,
     "user": {
      "displayName": "Arman Ahmadi",
      "userId": "01898720231371550914"
     },
     "user_tz": 420
    },
    "id": "dDGyqjO2SlHP"
   },
   "outputs": [],
   "source": [
    "# Rename columns\n",
    "\n",
    "Allsites2.columns = ['TimeStamp', 'SiteID', 'T_air', 'SW', 'LW_In', 'LW_Out', 'VPD', 'precipitation',\n",
    "                        'WS', 'CO2', 'LE', 'H',\n",
    "                           'GPP_night', 'GPP_day']"
   ]
  },
  {
   "cell_type": "markdown",
   "metadata": {
    "id": "m-TNeAU_p8Fh"
   },
   "source": [
    "#### Growing Season Data Only (May-Sep)"
   ]
  },
  {
   "cell_type": "code",
   "execution_count": null,
   "metadata": {
    "executionInfo": {
     "elapsed": 152,
     "status": "ok",
     "timestamp": 1751411237056,
     "user": {
      "displayName": "Arman Ahmadi",
      "userId": "01898720231371550914"
     },
     "user_tz": 420
    },
    "id": "20tkRlVIqA_9"
   },
   "outputs": [],
   "source": [
    "# Format the 'TimeStamp' column to datetime object\n",
    "\n",
    "Allsites2['TimeStamp'] = pd.to_datetime(Allsites2['TimeStamp'], format='%Y%m%d') # CSV format is YYYYMMDD"
   ]
  },
  {
   "cell_type": "code",
   "execution_count": null,
   "metadata": {
    "executionInfo": {
     "elapsed": 36,
     "status": "ok",
     "timestamp": 1751411243507,
     "user": {
      "displayName": "Arman Ahmadi",
      "userId": "01898720231371550914"
     },
     "user_tz": 420
    },
    "id": "dcnDj-MnqK0g"
   },
   "outputs": [],
   "source": [
    "# May-Sep mask\n",
    "\n",
    "mask = (Allsites2['TimeStamp'].dt.month >= 5) & (Allsites2['TimeStamp'].dt.month <= 9)"
   ]
  },
  {
   "cell_type": "code",
   "execution_count": null,
   "metadata": {
    "executionInfo": {
     "elapsed": 63,
     "status": "ok",
     "timestamp": 1751411259956,
     "user": {
      "displayName": "Arman Ahmadi",
      "userId": "01898720231371550914"
     },
     "user_tz": 420
    },
    "id": "6v2YhdNFqYPV"
   },
   "outputs": [],
   "source": [
    "# Allsites2: Full (year-round) data\n",
    "# Allsites3: Growing season data\n",
    "\n",
    "Allsites3 = Allsites2[mask]"
   ]
  },
  {
   "cell_type": "code",
   "execution_count": null,
   "metadata": {
    "id": "WDhzEBN0pSlf"
   },
   "outputs": [],
   "source": [
    "# # Only for considering the full year data\n",
    "\n",
    "# Allsites3 = Allsites2"
   ]
  },
  {
   "cell_type": "markdown",
   "metadata": {
    "id": "s9DbCfYMqm25"
   },
   "source": [
    "#### Removing Unexpected Values"
   ]
  },
  {
   "cell_type": "code",
   "execution_count": null,
   "metadata": {
    "colab": {
     "base_uri": "https://localhost:8080/"
    },
    "executionInfo": {
     "elapsed": 43,
     "status": "ok",
     "timestamp": 1751411263137,
     "user": {
      "displayName": "Arman Ahmadi",
      "userId": "01898720231371550914"
     },
     "user_tz": 420
    },
    "id": "Mq-lEbGS_DsV",
    "outputId": "ef9a7bdd-b1d0-4b1d-baa3-17cb831e359c"
   },
   "outputs": [],
   "source": [
    "print('Number of samples before removing rows containing NAN or negative/zero values:', len(Allsites3))"
   ]
  },
  {
   "cell_type": "code",
   "execution_count": null,
   "metadata": {
    "executionInfo": {
     "elapsed": 46,
     "status": "ok",
     "timestamp": 1751411318934,
     "user": {
      "displayName": "Arman Ahmadi",
      "userId": "01898720231371550914"
     },
     "user_tz": 420
    },
    "id": "sKJ6Essp7P8-"
   },
   "outputs": [],
   "source": [
    "# Remove samples with NAN for LE or GPP\n",
    "\n",
    "Allsites3 = Allsites3.dropna(subset = ['LE', 'GPP_day', 'GPP_night'])\n",
    "\n",
    "\n",
    "# Remove samples with negative/zero values for LE or GPP\n",
    "\n",
    "Allsites3 = Allsites3[(~Allsites3[['LE', 'GPP_day', 'GPP_night']].lt(0).any(axis=1)) &\n",
    "                    (~Allsites3[['LE', 'GPP_day', 'GPP_night']].eq(0).any(axis=1))]"
   ]
  },
  {
   "cell_type": "code",
   "execution_count": null,
   "metadata": {
    "colab": {
     "base_uri": "https://localhost:8080/"
    },
    "executionInfo": {
     "elapsed": 56,
     "status": "ok",
     "timestamp": 1751411327482,
     "user": {
      "displayName": "Arman Ahmadi",
      "userId": "01898720231371550914"
     },
     "user_tz": 420
    },
    "id": "AOsxusVqcRPw",
    "outputId": "71509473-8fd9-4af3-8cf0-d52a01bfcdf1"
   },
   "outputs": [],
   "source": [
    "print('Number of samples after removing rows containing NAN or negative/zero values for LE and GPP:', len(Allsites3))"
   ]
  },
  {
   "cell_type": "code",
   "execution_count": null,
   "metadata": {
    "executionInfo": {
     "elapsed": 43,
     "status": "ok",
     "timestamp": 1751411330551,
     "user": {
      "displayName": "Arman Ahmadi",
      "userId": "01898720231371550914"
     },
     "user_tz": 420
    },
    "id": "N7k8vsFNhsFY"
   },
   "outputs": [],
   "source": [
    "# Remove samples with negative/zero values for T_air\n",
    "\n",
    "Allsites3 = Allsites3[(~Allsites3[['T_air']].lt(0).any(axis=1)) &\n",
    "                      (~Allsites3[['T_air']].eq(0).any(axis=1))]"
   ]
  },
  {
   "cell_type": "code",
   "execution_count": null,
   "metadata": {
    "colab": {
     "base_uri": "https://localhost:8080/"
    },
    "executionInfo": {
     "elapsed": 74,
     "status": "ok",
     "timestamp": 1751411338637,
     "user": {
      "displayName": "Arman Ahmadi",
      "userId": "01898720231371550914"
     },
     "user_tz": 420
    },
    "id": "FpIdKjMtiD5C",
    "outputId": "78e7a749-6543-4531-f317-cd79c2331f31"
   },
   "outputs": [],
   "source": [
    "print('Number of samples after removing rows containing negative/zero values for T_air:', len(Allsites3))"
   ]
  },
  {
   "cell_type": "code",
   "execution_count": null,
   "metadata": {
    "executionInfo": {
     "elapsed": 58,
     "status": "ok",
     "timestamp": 1751411342912,
     "user": {
      "displayName": "Arman Ahmadi",
      "userId": "01898720231371550914"
     },
     "user_tz": 420
    },
    "id": "-uq8_OGAoicm"
   },
   "outputs": [],
   "source": [
    "# Remove samples with negative/zero values for CO2 concentration\n",
    "\n",
    "Allsites3 = Allsites3[(~Allsites3[['CO2']].lt(0).any(axis=1)) &\n",
    "                    (~Allsites3[['CO2']].eq(0).any(axis=1))]"
   ]
  },
  {
   "cell_type": "code",
   "execution_count": null,
   "metadata": {
    "colab": {
     "base_uri": "https://localhost:8080/"
    },
    "executionInfo": {
     "elapsed": 22,
     "status": "ok",
     "timestamp": 1751411346323,
     "user": {
      "displayName": "Arman Ahmadi",
      "userId": "01898720231371550914"
     },
     "user_tz": 420
    },
    "id": "U9_TneY3o4Ug",
    "outputId": "ad81bdf3-3d8c-48d7-97b6-a454cd28ba2f"
   },
   "outputs": [],
   "source": [
    "print('Number of samples after removing zero and negative CO2 values:', len(Allsites3))"
   ]
  },
  {
   "cell_type": "code",
   "execution_count": null,
   "metadata": {
    "executionInfo": {
     "elapsed": 30,
     "status": "ok",
     "timestamp": 1751411350784,
     "user": {
      "displayName": "Arman Ahmadi",
      "userId": "01898720231371550914"
     },
     "user_tz": 420
    },
    "id": "KJSIE0m7pIHO"
   },
   "outputs": [],
   "source": [
    "# Remove samples with unrealistically high level of CO2 concentration\n",
    "\n",
    "Allsites3 = Allsites3[Allsites3.CO2 < 700]"
   ]
  },
  {
   "cell_type": "code",
   "execution_count": null,
   "metadata": {
    "colab": {
     "base_uri": "https://localhost:8080/"
    },
    "executionInfo": {
     "elapsed": 83,
     "status": "ok",
     "timestamp": 1751411356684,
     "user": {
      "displayName": "Arman Ahmadi",
      "userId": "01898720231371550914"
     },
     "user_tz": 420
    },
    "id": "dyrB-AT2pV-U",
    "outputId": "cc5a4b8f-2393-4a3f-85c0-f8fc6f2ed6c9"
   },
   "outputs": [],
   "source": [
    "print('Number of samples after removing unexpectedly high values of CO2:', len(Allsites3))"
   ]
  },
  {
   "cell_type": "markdown",
   "metadata": {
    "id": "fTR9pUwPq2p7"
   },
   "source": [
    "#### Changing Units and Adding Features"
   ]
  },
  {
   "cell_type": "code",
   "execution_count": null,
   "metadata": {
    "executionInfo": {
     "elapsed": 57,
     "status": "ok",
     "timestamp": 1751411369759,
     "user": {
      "displayName": "Arman Ahmadi",
      "userId": "01898720231371550914"
     },
     "user_tz": 420
    },
    "id": "Sb06MXFSz0Ge"
   },
   "outputs": [],
   "source": [
    "# Change the units of SW radiation from W.m-2 to MJ.m-2.day-1\n",
    "\n",
    "Allsites3['SW_MJ'] = Allsites3.SW * ((3600*24)/1000000)"
   ]
  },
  {
   "cell_type": "code",
   "execution_count": null,
   "metadata": {
    "executionInfo": {
     "elapsed": 15,
     "status": "ok",
     "timestamp": 1751411373631,
     "user": {
      "displayName": "Arman Ahmadi",
      "userId": "01898720231371550914"
     },
     "user_tz": 420
    },
    "id": "6uXzvY6ViQs_"
   },
   "outputs": [],
   "source": [
    "# Add evaporative fraction\n",
    "\n",
    "Allsites3['EF'] = Allsites3.LE / (Allsites3.LE + Allsites3.H)"
   ]
  },
  {
   "cell_type": "markdown",
   "metadata": {
    "id": "LMUd2VY90mnb"
   },
   "source": [
    "#### Adding Site-level Features from Ameriflux_191"
   ]
  },
  {
   "cell_type": "code",
   "execution_count": null,
   "metadata": {
    "executionInfo": {
     "elapsed": 319,
     "status": "ok",
     "timestamp": 1751411424975,
     "user": {
      "displayName": "Arman Ahmadi",
      "userId": "01898720231371550914"
     },
     "user_tz": 420
    },
    "id": "IJHvYtRW0xQN"
   },
   "outputs": [],
   "source": [
    "Ameriflux191 = pd.read_csv(DATA_DIR/'Ameriflux_fluxnet_list_191.csv', index_col=None, header=0)"
   ]
  },
  {
   "cell_type": "code",
   "execution_count": null,
   "metadata": {
    "executionInfo": {
     "elapsed": 39,
     "status": "ok",
     "timestamp": 1751411427341,
     "user": {
      "displayName": "Arman Ahmadi",
      "userId": "01898720231371550914"
     },
     "user_tz": 420
    },
    "id": "OxnXdi8v0_dM"
   },
   "outputs": [],
   "source": [
    "# Merge the two DataFrames based on 'SiteID'\n",
    "\n",
    "merging_columns = ['SiteID','IGBP', 'Koppen', 'MAP',\n",
    "                  'MAT', 'Country', 'Latitude', 'Longitude',\n",
    "                  'Elevation', 'Wetness_Index']\n",
    "\n",
    "Allsites = pd.merge(Allsites3, Ameriflux191[merging_columns], on='SiteID', how='left')"
   ]
  },
  {
   "cell_type": "markdown",
   "metadata": {
    "id": "8CAuUbPyZk36"
   },
   "source": [
    "#### Combining IGBP and Climate Classes"
   ]
  },
  {
   "cell_type": "markdown",
   "metadata": {
    "id": "BEX5K3mnZvVH"
   },
   "source": [
    "IGBP:\n",
    "\n",
    "- WSA and SAV combined and called SAV\n",
    "\n",
    "- CSH and OSH combined and called SHR"
   ]
  },
  {
   "cell_type": "markdown",
   "metadata": {
    "id": "2jCFMkljZ6lj"
   },
   "source": [
    "Climate:\n",
    "\n",
    "- Humid Continental (HC): Dfb, Dfa, Dsb, Dsa\n",
    "\n",
    "- Humid Subtropical (HS): Cfa\n",
    "\n",
    "- Subarctic (S): Dfc, Dfd, Dwc\n",
    "\n",
    "- Mediterranean (M): Csa, Csb\n",
    "\n",
    "- Semi-Arid (SA): Bsk, Bsh\n",
    "\n",
    "- Tundra (T): ET\n",
    "\n",
    "- Oceanic (O): Cfb\n",
    "\n",
    "- Arid (A): BWk, BWh"
   ]
  },
  {
   "cell_type": "code",
   "execution_count": null,
   "metadata": {
    "executionInfo": {
     "elapsed": 65,
     "status": "ok",
     "timestamp": 1751411506272,
     "user": {
      "displayName": "Arman Ahmadi",
      "userId": "01898720231371550914"
     },
     "user_tz": 420
    },
    "id": "clnvf1KLbrh4"
   },
   "outputs": [],
   "source": [
    "Allsites['PFT'] = Allsites['IGBP'].replace({'WSA': 'SAV', 'CSH': 'SHR', 'OSH': 'SHR'})"
   ]
  },
  {
   "cell_type": "code",
   "execution_count": null,
   "metadata": {
    "colab": {
     "base_uri": "https://localhost:8080/"
    },
    "executionInfo": {
     "elapsed": 93,
     "status": "ok",
     "timestamp": 1751411508188,
     "user": {
      "displayName": "Arman Ahmadi",
      "userId": "01898720231371550914"
     },
     "user_tz": 420
    },
    "id": "FTex2dXNeapi",
    "outputId": "00ca526b-c668-4486-a6e8-c61d23826071"
   },
   "outputs": [],
   "source": [
    "Allsites['PFT'].unique()"
   ]
  },
  {
   "cell_type": "code",
   "execution_count": null,
   "metadata": {
    "executionInfo": {
     "elapsed": 94,
     "status": "ok",
     "timestamp": 1751411513732,
     "user": {
      "displayName": "Arman Ahmadi",
      "userId": "01898720231371550914"
     },
     "user_tz": 420
    },
    "id": "mmyLhl7icPI2"
   },
   "outputs": [],
   "source": [
    "Allsites['Climate'] = Allsites['Koppen'].replace({'Dfb': 'HC', 'Dfa': 'HC', 'Dsb': 'HC', 'Dsa': 'HC',\n",
    "                                                  'Cfa': 'HS',\n",
    "                                                  'Dfc': 'S', 'Dfd': 'S', 'Dwc': 'S',\n",
    "                                                  'Csa': 'M', 'Csb': 'M',\n",
    "                                                  'Bsk': 'SA', 'Bsh': 'SA',\n",
    "                                                  'ET': 'T',\n",
    "                                                  'Cfb': 'O',\n",
    "                                                  'Bwk': 'A', 'Bwh': 'A'})"
   ]
  },
  {
   "cell_type": "code",
   "execution_count": null,
   "metadata": {
    "colab": {
     "base_uri": "https://localhost:8080/"
    },
    "executionInfo": {
     "elapsed": 58,
     "status": "ok",
     "timestamp": 1751411515732,
     "user": {
      "displayName": "Arman Ahmadi",
      "userId": "01898720231371550914"
     },
     "user_tz": 420
    },
    "id": "IMfLxe9AefFD",
    "outputId": "07db7a3d-9e4c-40cc-c6ed-2b9cce8384bc"
   },
   "outputs": [],
   "source": [
    "Allsites['Climate'].unique()"
   ]
  },
  {
   "cell_type": "code",
   "execution_count": null,
   "metadata": {
    "executionInfo": {
     "elapsed": 105,
     "status": "ok",
     "timestamp": 1751411681683,
     "user": {
      "displayName": "Arman Ahmadi",
      "userId": "01898720231371550914"
     },
     "user_tz": 420
    },
    "id": "tGz6_1h9tCyB"
   },
   "outputs": [],
   "source": [
    "# Remove samples with negative EF\n",
    "\n",
    "Allsites = Allsites[Allsites.EF > 0]"
   ]
  },
  {
   "cell_type": "code",
   "execution_count": null,
   "metadata": {
    "executionInfo": {
     "elapsed": 53,
     "status": "ok",
     "timestamp": 1751411686279,
     "user": {
      "displayName": "Arman Ahmadi",
      "userId": "01898720231371550914"
     },
     "user_tz": 420
    },
    "id": "jgvh2vriyx_D"
   },
   "outputs": [],
   "source": [
    "# Remove samples with EF values higher than 1.4\n",
    "\n",
    "Allsites = Allsites[Allsites.EF <= 1.4]"
   ]
  },
  {
   "cell_type": "code",
   "execution_count": null,
   "metadata": {
    "colab": {
     "base_uri": "https://localhost:8080/"
    },
    "executionInfo": {
     "elapsed": 51,
     "status": "ok",
     "timestamp": 1751411688328,
     "user": {
      "displayName": "Arman Ahmadi",
      "userId": "01898720231371550914"
     },
     "user_tz": 420
    },
    "id": "84ZAneeEzqdj",
    "outputId": "5b3140e4-ca34-45bd-b292-64bf53ebe3af"
   },
   "outputs": [],
   "source": [
    "print('Number of samples after removing bad EF values:', len(Allsites))"
   ]
  },
  {
   "cell_type": "markdown",
   "metadata": {
    "id": "PKDWqF7y_syp"
   },
   "source": [
    "### Data Analysis and Visualization\n"
   ]
  },
  {
   "cell_type": "markdown",
   "metadata": {
    "id": "Ed5DmSldcmur"
   },
   "source": [
    "#### GPP Distribution (BoxPlots)"
   ]
  },
  {
   "cell_type": "code",
   "execution_count": null,
   "metadata": {
    "colab": {
     "base_uri": "https://localhost:8080/",
     "height": 287
    },
    "executionInfo": {
     "elapsed": 983,
     "status": "ok",
     "timestamp": 1751329637363,
     "user": {
      "displayName": "Arman Ahmadi",
      "userId": "01898720231371550914"
     },
     "user_tz": 420
    },
    "id": "qGCHBXsdcxtV",
    "outputId": "87a1f368-fc02-4897-c33e-46d8b5b58546"
   },
   "outputs": [],
   "source": [
    "# Make a figure (canvas) object and an axes (inside canvas) object\n",
    "f, axes = plt.subplots(1,1, figsize=(6,3))\n",
    "\n",
    "desired_order = ['ENF', 'DBF', 'SAV', 'SHR', 'GRA', 'WET', 'CRO']  # PFT order\n",
    "# desired_order = ['HC', 'HS', 'M', 'S', 'T', 'SA']  # Climate order\n",
    "\n",
    "# Define a color palette\n",
    "palette_7 = [\n",
    "    '#1f77b4',  # Blue\n",
    "    '#ff7f0e',  # Orange\n",
    "    '#2ca02c',  # Green\n",
    "    '#d62728',  # Red\n",
    "    '#9467bd',  # Purple\n",
    "    '#8c564b',  # Brown\n",
    "    '#e377c2',  # Pink\n",
    "]\n",
    "\n",
    "\n",
    "z1 = sns.boxplot(data = Allsites, x = 'PFT', y = 'GPP_day', order = desired_order, palette=palette_7,\n",
    "                 linewidth=1.3, showfliers = False, width=0.5)\n",
    "\n",
    "z1.axes.set_ylabel('GPP (gC/m^2/day)')\n",
    "\n",
    "sns.set(font_scale=1.2,style='whitegrid')\n",
    "plt.tight_layout()\n",
    "\n",
    "# plt.savefig('GPP_boxplots_PFT.jpg', dpi=400)"
   ]
  },
  {
   "cell_type": "markdown",
   "metadata": {
    "id": "msDb6xySHlAZ"
   },
   "source": [
    "#### Meteorological Variables Distribution (Boxplots)"
   ]
  },
  {
   "cell_type": "code",
   "execution_count": null,
   "metadata": {
    "colab": {
     "base_uri": "https://localhost:8080/",
     "height": 959
    },
    "executionInfo": {
     "elapsed": 1457,
     "status": "ok",
     "timestamp": 1751329672934,
     "user": {
      "displayName": "Arman Ahmadi",
      "userId": "01898720231371550914"
     },
     "user_tz": 420
    },
    "id": "dgicqWGhCz7S",
    "outputId": "25ea823f-5e4a-4ca7-ad12-979ac7c424c7"
   },
   "outputs": [],
   "source": [
    "# Define a color palette\n",
    "palette_7 = [\n",
    "    '#1f77b4',  # Blue\n",
    "    '#ff7f0e',  # Orange\n",
    "    '#2ca02c',  # Green\n",
    "    '#d62728',  # Red\n",
    "    '#9467bd',  # Purple\n",
    "    '#8c564b',  # Brown\n",
    "    '#e377c2',  # Pink\n",
    "]\n",
    "\n",
    "f, axes = plt.subplots(4,1, figsize=(6,10))\n",
    "\n",
    "desired_order = ['ENF', 'DBF', 'SAV', 'SHR', 'GRA', 'WET', 'CRO']  # PFT order\n",
    "# desired_order = ['HC', 'HS', 'M', 'S', 'T', 'SA']  # Climate order\n",
    "\n",
    "\n",
    "# List of y-axis variables in the order of subplot axes\n",
    "y_vars = ['T_air', 'CO2', 'SW', 'EF']\n",
    "\n",
    "# List of plt axes\n",
    "zplots = []\n",
    "\n",
    "for i, y_var in enumerate(y_vars):\n",
    "    z = sns.boxplot(\n",
    "        data = Allsites,\n",
    "        x = 'PFT',\n",
    "        y = y_var,\n",
    "        order = desired_order,\n",
    "        linewidth = 1.3,\n",
    "        ax = axes[i],\n",
    "        palette = palette_7,\n",
    "        showfliers = False,\n",
    "        width = 0.5\n",
    "    )\n",
    "    zplots.append(z)\n",
    "\n",
    "\n",
    "for i in range(len(zplots)-1):\n",
    "  zplots[i].axes.get_xaxis().set_visible(False)\n",
    "\n",
    "zplots[0].axes.set_ylabel('T_air (deg. C)')\n",
    "zplots[1].axes.set_ylabel('CO2 (ppm)')\n",
    "zplots[2].axes.set_ylabel('SW (W/m^2)')\n",
    "zplots[3].axes.set_ylabel('EF')\n",
    "\n",
    "sns.set(font_scale=1.2,style='whitegrid')\n",
    "plt.tight_layout()\n",
    "\n",
    "# plt.savefig('PFT_boxplots.jpg', dpi=400)"
   ]
  },
  {
   "cell_type": "markdown",
   "metadata": {
    "id": "M2jqQ89THdUA"
   },
   "source": [
    "#### The Number of Samples and Sites"
   ]
  },
  {
   "cell_type": "code",
   "execution_count": null,
   "metadata": {
    "id": "6I3Q6a2fXnXY"
   },
   "outputs": [],
   "source": [
    "Input_Samples_PFT = Allsites.groupby('PFT').agg(Samples=('PFT', 'size'), Sites=('SiteID', 'nunique')).reset_index()\n",
    "\n",
    "desired_order = ['ENF', 'DBF', 'SAV', 'SHR', 'GRA', 'WET', 'CRO']\n",
    "\n",
    "# Make PFT column categorical with a desired order\n",
    "Input_Samples_PFT['PFT'] = pd.Categorical(Input_Samples_PFT['PFT'], categories=desired_order, ordered=True)\n",
    "\n",
    "# Sort the rows according to the PFT desired order\n",
    "Input_Samples_PFT = Input_Samples_PFT.sort_values(by='PFT')"
   ]
  },
  {
   "cell_type": "code",
   "execution_count": null,
   "metadata": {
    "colab": {
     "base_uri": "https://localhost:8080/",
     "height": 269
    },
    "executionInfo": {
     "elapsed": 38,
     "status": "ok",
     "timestamp": 1751329730272,
     "user": {
      "displayName": "Arman Ahmadi",
      "userId": "01898720231371550914"
     },
     "user_tz": 420
    },
    "id": "qUz8JfadXrBu",
    "outputId": "e2ede48b-2142-48a4-ab34-b83c3a66790f"
   },
   "outputs": [],
   "source": [
    "Input_Samples_PFT"
   ]
  },
  {
   "cell_type": "code",
   "execution_count": null,
   "metadata": {
    "id": "HsHqVL6IZ21x"
   },
   "outputs": [],
   "source": [
    "Input_Samples_Climate = Allsites.groupby('Climate').agg(Samples=('Climate', 'size'), Sites=('SiteID', 'nunique')).reset_index()\n",
    "\n",
    "desired_order = ['HC', 'HS', 'M', 'S', 'T', 'SA' ]\n",
    "\n",
    "Input_Samples_Climate['Climate'] = pd.Categorical(Input_Samples_Climate['Climate'], categories=desired_order, ordered=True)\n",
    "\n",
    "Input_Samples_Climate = Input_Samples_Climate.sort_values(by='Climate')"
   ]
  },
  {
   "cell_type": "code",
   "execution_count": null,
   "metadata": {
    "colab": {
     "base_uri": "https://localhost:8080/",
     "height": 238
    },
    "executionInfo": {
     "elapsed": 27,
     "status": "ok",
     "timestamp": 1751329751801,
     "user": {
      "displayName": "Arman Ahmadi",
      "userId": "01898720231371550914"
     },
     "user_tz": 420
    },
    "id": "_25X23pXaSgi",
    "outputId": "5f4c46cb-b627-4af2-df3e-c7caef6ab08a"
   },
   "outputs": [],
   "source": [
    "Input_Samples_Climate"
   ]
  },
  {
   "cell_type": "markdown",
   "metadata": {
    "id": "O-OaMGc4tuPB"
   },
   "source": [
    "### Interpretable ML"
   ]
  },
  {
   "cell_type": "markdown",
   "metadata": {
    "id": "W1_8P0auxjsW"
   },
   "source": [
    "#### Packages and Libraries"
   ]
  },
  {
   "cell_type": "code",
   "execution_count": null,
   "metadata": {
    "executionInfo": {
     "elapsed": 6501,
     "status": "ok",
     "timestamp": 1751411858529,
     "user": {
      "displayName": "Arman Ahmadi",
      "userId": "01898720231371550914"
     },
     "user_tz": 420
    },
    "id": "OsDlb9ufuxVq"
   },
   "outputs": [],
   "source": [
    "# Required libraries\n",
    "\n",
    "from sklearn.model_selection import train_test_split\n",
    "from sklearn.metrics import mean_squared_error, r2_score\n",
    "import xgboost as xgb\n",
    "from math import sqrt\n",
    "from sklearn.inspection import PartialDependenceDisplay # PDP plots\n",
    "import optuna\n",
    "from PyALE import ale"
   ]
  },
  {
   "cell_type": "markdown",
   "metadata": {
    "id": "vKFbZ90it3XL"
   },
   "source": [
    "#### XGBoost Model"
   ]
  },
  {
   "cell_type": "code",
   "execution_count": null,
   "metadata": {
    "executionInfo": {
     "elapsed": 45,
     "status": "ok",
     "timestamp": 1751411891432,
     "user": {
      "displayName": "Arman Ahmadi",
      "userId": "01898720231371550914"
     },
     "user_tz": 420
    },
    "id": "xvJEZqHWt_Zb"
   },
   "outputs": [],
   "source": [
    "# Select data\n",
    "\n",
    "data = Allsites[Allsites.PFT == 'WET']\n",
    "# data = Allsites[(Allsites.Wetness_Index  > 0.6) & (Allsites.Wetness_Index  <= 0.8)]"
   ]
  },
  {
   "cell_type": "code",
   "execution_count": null,
   "metadata": {
    "colab": {
     "base_uri": "https://localhost:8080/",
     "height": 294
    },
    "executionInfo": {
     "elapsed": 436,
     "status": "ok",
     "timestamp": 1751411906487,
     "user": {
      "displayName": "Arman Ahmadi",
      "userId": "01898720231371550914"
     },
     "user_tz": 420
    },
    "id": "_X3VnHCQ8GNo",
    "outputId": "4b01b1eb-19e6-406b-cc26-76df5abbcd95"
   },
   "outputs": [],
   "source": [
    "# Correlation Matrix\n",
    "\n",
    "data_x = data[['T_air', 'CO2', 'SW', 'EF']]\n",
    "\n",
    "# Calculate the correlation matrix\n",
    "correlation_matrix = data_x.corr('pearson')\n",
    "\n",
    "# Create a heatmap using seaborn\n",
    "plt.figure(figsize=(3.5, 3))\n",
    "sns.heatmap(correlation_matrix, annot=True, cmap='coolwarm', fmt='.2f', linewidths=.5, center=0)\n",
    "plt.title('WET')\n",
    "\n",
    "plt.tick_params(bottom=True, left=True)\n",
    "sns.set(font_scale=1, style='white')\n",
    "plt.tight_layout()\n",
    "\n",
    "# plt.savefig('correlation_matrix_WET.jpg', dpi=400)"
   ]
  },
  {
   "cell_type": "code",
   "execution_count": null,
   "metadata": {
    "colab": {
     "base_uri": "https://localhost:8080/"
    },
    "executionInfo": {
     "elapsed": 774,
     "status": "ok",
     "timestamp": 1751411966608,
     "user": {
      "displayName": "Arman Ahmadi",
      "userId": "01898720231371550914"
     },
     "user_tz": 420
    },
    "id": "ex_G-kmKu2Z8",
    "outputId": "4c221912-dfbc-4935-bc31-66e6acb0b202"
   },
   "outputs": [],
   "source": [
    "# Training and testing the model\n",
    "\n",
    "# Split the data into features (X) and target variable (y)\n",
    "X = data[['T_air', 'CO2', 'SW', 'EF']]\n",
    "y = data['GPP_day']\n",
    "\n",
    "# Split the data into training and testing sets\n",
    "X_train, X_test, y_train, y_test = train_test_split(X, y, test_size=0.2, random_state=42)\n",
    "\n",
    "# Instantiate the XGBoost regressor\n",
    "model = xgb.XGBRegressor(objective ='reg:squarederror', random_state=42)\n",
    "\n",
    "# Train the model on the training set\n",
    "model.fit(X_train, y_train)\n",
    "\n",
    "# Make predictions on the test set\n",
    "y_pred = model.predict(X_test)\n",
    "\n",
    "# Evaluate the model performance (using Root Mean Squared Error)\n",
    "rmse = sqrt(mean_squared_error(y_test, y_pred))\n",
    "print(f'Root Mean Squared Error: {rmse} gC/m2/day')\n",
    "\n",
    "r2 = r2_score(y_test, y_pred)\n",
    "print(f'R^2: {r2}')"
   ]
  },
  {
   "cell_type": "code",
   "execution_count": null,
   "metadata": {
    "colab": {
     "base_uri": "https://localhost:8080/"
    },
    "executionInfo": {
     "elapsed": 285657,
     "status": "ok",
     "timestamp": 1751063149656,
     "user": {
      "displayName": "Arman Ahmadi",
      "userId": "01898720231371550914"
     },
     "user_tz": 420
    },
    "id": "o4HkPbdsI7SH",
    "outputId": "7edfb7ea-9d56-417e-e45c-5f2a07933082"
   },
   "outputs": [],
   "source": [
    "# Hyperparameter Optimization with Optuna\n",
    "\n",
    "# Split the data into features (X) and target variable (y)\n",
    "X = data[['T_air', 'CO2', 'SW', 'EF']]\n",
    "y = data['GPP_day']\n",
    "\n",
    "# Split the data into training and testing sets\n",
    "X_train, X_test, y_train, y_test = train_test_split(X, y, test_size=0.2, random_state=42)\n",
    "\n",
    "# Define the objective function for Optuna\n",
    "def objective(trial):\n",
    "    params = {\n",
    "        'objective': 'reg:squarederror',\n",
    "        'eval_metric': 'rmse',\n",
    "        'booster': trial.suggest_categorical('booster', ['gbtree', 'gblinear', 'dart']), # categorical parameter\n",
    "        'lambda': trial.suggest_loguniform('lambda', 1e-8, 1.0), # continuous parameter\n",
    "        'alpha': trial.suggest_loguniform('alpha', 1e-8, 1.0),\n",
    "        'max_depth': trial.suggest_int('max_depth', 3, 10), # integer parameter\n",
    "        'eta': trial.suggest_loguniform('eta', 1e-8, 1.0),\n",
    "        'gamma': trial.suggest_loguniform('gamma', 1e-8, 1.0),\n",
    "        'subsample': trial.suggest_float('subsample', 0.1, 1.0), # floating point parameter\n",
    "        'colsample_bytree': trial.suggest_float('colsample_bytree', 0.1, 1.0),\n",
    "        'min_child_weight': trial.suggest_float('min_child_weight', 1, 10),\n",
    "        'n_estimators': trial.suggest_int('n_estimators', 50, 300),\n",
    "        # 'tree_method': 'gpu_hist'  # Enable GPU\n",
    "    }\n",
    "\n",
    "    model = xgb.XGBRegressor(**params, random_state=42)\n",
    "    model.fit(X_train, y_train)\n",
    "    predictions = model.predict(X_test)\n",
    "    rmse = np.sqrt(mean_squared_error(y_test, predictions))\n",
    "\n",
    "    return rmse\n",
    "\n",
    "# Create and run the Optuna study with a TPE sampler and Median Pruner\n",
    "sampler = optuna.samplers.TPESampler(seed=42) # TPE (Tree-structured Parzen Estimator) algorithm\n",
    "pruner = optuna.pruners.MedianPruner(n_startup_trials=5, n_warmup_steps=10, interval_steps=1)\n",
    "study = optuna.create_study(direction='minimize', sampler=sampler, pruner=pruner)\n",
    "study.optimize(objective, n_trials=20) # n_tirals=100 for real applications\n",
    "\n",
    "# Print the best hyperparameters and corresponding RMSE\n",
    "print(\"Best Hyperparameters:\", study.best_params)\n",
    "print(\"Best RMSE:\", study.best_value)\n",
    "\n",
    "# Store the best set of hyperparameters\n",
    "best_params = study.best_params"
   ]
  },
  {
   "cell_type": "code",
   "execution_count": null,
   "metadata": {
    "colab": {
     "base_uri": "https://localhost:8080/"
    },
    "executionInfo": {
     "elapsed": 83,
     "status": "ok",
     "timestamp": 1751412074350,
     "user": {
      "displayName": "Arman Ahmadi",
      "userId": "01898720231371550914"
     },
     "user_tz": 420
    },
    "id": "v4HlqrtL3eGp",
    "outputId": "ef4502d0-3a80-4334-e392-078ba38f994d"
   },
   "outputs": [],
   "source": [
    "best_params"
   ]
  },
  {
   "cell_type": "code",
   "execution_count": null,
   "metadata": {
    "colab": {
     "base_uri": "https://localhost:8080/"
    },
    "executionInfo": {
     "elapsed": 1158,
     "status": "ok",
     "timestamp": 1751412079991,
     "user": {
      "displayName": "Arman Ahmadi",
      "userId": "01898720231371550914"
     },
     "user_tz": 420
    },
    "id": "Oo0iIBgmLxf7",
    "outputId": "83e59886-be7f-4709-e58f-a4007de807ba"
   },
   "outputs": [],
   "source": [
    "# Training the model with the best hyperparameters\n",
    "\n",
    "# Split the data into features (X) and target variable (y)\n",
    "X = data[['T_air', 'CO2', 'SW', 'EF']]\n",
    "y = data['GPP_day']\n",
    "\n",
    "# Split the data into training and testing sets\n",
    "X_train, X_test, y_train, y_test = train_test_split(X, y, test_size=0.2, random_state=42)\n",
    "\n",
    "# Instantiate the XGBoost regressor with the best hyperparameters\n",
    "model = xgb.XGBRegressor(objective='reg:squarederror', random_state=42, **best_params, importance_type='gain')\n",
    "\n",
    "# Train the model on the entire training set\n",
    "model.fit(X_train, y_train)\n",
    "\n",
    "# Get feature importances\n",
    "feature_importance = model.feature_importances_\n",
    "\n",
    "# Make predictions on the test set\n",
    "y_pred = model.predict(X_test)\n",
    "\n",
    "# Evaluate the model performance (using Root Mean Squared Error)\n",
    "rmse = sqrt(mean_squared_error(y_test, y_pred))\n",
    "print(f'Root Mean Squared Error: {rmse} gC/m2/day')\n",
    "\n",
    "r2 = r2_score(y_test, y_pred)\n",
    "print(f'R^2: {r2}')\n",
    "\n",
    "# Print feature importance\n",
    "print()\n",
    "print(\"Feature Importance:\")\n",
    "for i, feature in enumerate(X.columns):\n",
    "    print(f\"{feature}: {feature_importance[i]}\")"
   ]
  },
  {
   "cell_type": "code",
   "execution_count": null,
   "metadata": {
    "colab": {
     "base_uri": "https://localhost:8080/",
     "height": 391
    },
    "executionInfo": {
     "elapsed": 757,
     "status": "ok",
     "timestamp": 1751412111719,
     "user": {
      "displayName": "Arman Ahmadi",
      "userId": "01898720231371550914"
     },
     "user_tz": 420
    },
    "id": "bmvfZEYnwm9y",
    "outputId": "e766fe84-cc4a-4d53-83a6-5c830c457984"
   },
   "outputs": [],
   "source": [
    "# Create scatter plot with 1:1 line\n",
    "\n",
    "fig, ax = plt.subplots(figsize=(5, 4))\n",
    "\n",
    "plt.scatter(y_test, y_pred, alpha=0.5, s=20, c='b')\n",
    "plt.plot([min(y_test), max(y_test)], [min(y_test), max(y_test)], '--', color='red', linewidth=2, label='1:1 line')\n",
    "\n",
    "# Add labels and title\n",
    "plt.xlabel('Actual GPP (gC/m2/day)')\n",
    "plt.ylabel('Predicted GPP (gC/m2/day)')\n",
    "plt.title('WET')\n",
    "\n",
    "# Add R-squared and RMSE annotations\n",
    "plt.annotate(f'R-squared: {r2:.3f}', xy=(0.05, 0.85), xycoords='axes fraction', fontsize=10)\n",
    "plt.annotate(f'RMSE: {rmse:.3f} gC/m2/day', xy=(0.05, 0.78), xycoords='axes fraction', fontsize=10)\n",
    "\n",
    "# Add legend\n",
    "plt.legend(loc=(0.05, 0.90))\n",
    "\n",
    "plt.tick_params(bottom=True, left=True)\n",
    "plt.tight_layout()\n",
    "\n",
    "\n",
    "# plt.savefig('Scatterplot_WET.jpg', dpi=400)"
   ]
  },
  {
   "cell_type": "markdown",
   "metadata": {
    "id": "U-9MuoHletWt"
   },
   "source": [
    "#### PDP and ALE Plots"
   ]
  },
  {
   "cell_type": "code",
   "execution_count": null,
   "metadata": {
    "colab": {
     "base_uri": "https://localhost:8080/",
     "height": 343
    },
    "executionInfo": {
     "elapsed": 4333,
     "status": "ok",
     "timestamp": 1751412169961,
     "user": {
      "displayName": "Arman Ahmadi",
      "userId": "01898720231371550914"
     },
     "user_tz": 420
    },
    "id": "zHpfnD4X3Gkp",
    "outputId": "6f7273a4-512f-478a-9b16-451f22f76217"
   },
   "outputs": [],
   "source": [
    "# 2-D PDP plts\n",
    "\n",
    "fig, ax = plt.subplots(figsize=(4.5, 3.5))\n",
    "PartialDependenceDisplay.from_estimator(estimator=model, X=X, features=[0], ax=ax, grid_resolution=20)\n",
    "plt.title('WET')\n",
    "\n",
    "plt.tick_params(bottom=True, left=True)\n",
    "plt.tight_layout()\n",
    "\n",
    "# plt.savefig('PDP2D_WET.jpg', dpi=400)"
   ]
  },
  {
   "cell_type": "code",
   "execution_count": null,
   "metadata": {
    "colab": {
     "base_uri": "https://localhost:8080/",
     "height": 343
    },
    "executionInfo": {
     "elapsed": 6077,
     "status": "ok",
     "timestamp": 1751412197989,
     "user": {
      "displayName": "Arman Ahmadi",
      "userId": "01898720231371550914"
     },
     "user_tz": 420
    },
    "id": "8k9jkQuj89_L",
    "outputId": "00f2d011-6577-4dd0-8bab-bae559d1cb2b"
   },
   "outputs": [],
   "source": [
    "# 3-D PDP plots\n",
    "\n",
    "fig, ax = plt.subplots(figsize=(4.5, 3.5))\n",
    "features = [(0, 3)]  # Choose the indices of the two features for the 2D plot\n",
    "PartialDependenceDisplay.from_estimator(estimator=model, X=X_train, features=features, ax=ax, grid_resolution=10)\n",
    "ax.set_title('WET')\n",
    "\n",
    "\n",
    "plt.tick_params(bottom=True, left=True)\n",
    "plt.tight_layout()\n",
    "\n",
    "plt.set_cmap('viridis')\n",
    "\n",
    "# plt.savefig('PDP3D_WET.jpg', dpi=400)"
   ]
  },
  {
   "cell_type": "code",
   "execution_count": null,
   "metadata": {
    "colab": {
     "base_uri": "https://localhost:8080/",
     "height": 360
    },
    "executionInfo": {
     "elapsed": 9310,
     "status": "ok",
     "timestamp": 1751412224128,
     "user": {
      "displayName": "Arman Ahmadi",
      "userId": "01898720231371550914"
     },
     "user_tz": 420
    },
    "id": "IRlLydOIlB8S",
    "outputId": "ba69de73-b144-4303-969d-0ed33109c13b"
   },
   "outputs": [],
   "source": [
    "# 2-D ALE plot\n",
    "\n",
    "fig, ax = plt.subplots(figsize=(4.5, 3.5))\n",
    "ale_eff = ale(X=X_train, model=model, feature=['T_air'], grid_size=20, include_CI=False, fig=fig, ax=ax)\n",
    "\n",
    "ax.set_title('WET')\n",
    "ax.set_xlabel(\"T_air\")\n",
    "ax.set_ylabel(\"Effect on Prediction (centered)\")\n",
    "\n",
    "plt.tick_params(bottom=True, left=True)\n",
    "plt.tight_layout()\n",
    "\n",
    "# plt.savefig('ALE_WET.jpg', dpi=400)"
   ]
  },
  {
   "cell_type": "markdown",
   "metadata": {
    "id": "qaTCVg4wK-TG"
   },
   "source": [
    "#### Feature Importance Visualizations"
   ]
  },
  {
   "cell_type": "code",
   "execution_count": null,
   "metadata": {
    "id": "MaJkENrjLI8U"
   },
   "outputs": [],
   "source": [
    "FI_PFT = pd.read_csv(DATA_DIR/'FeatureImportance_PFT.csv', index_col=None, header=0)\n",
    "FI_Climate = pd.read_csv(DATA_DIR/'FeatureImportance_Climate.csv', index_col=None, header=0)\n",
    "FI_WI = pd.read_csv(DATA_DIR/'FeatureImportance_WetnessIndex.csv', index_col=None, header=0)"
   ]
  },
  {
   "cell_type": "code",
   "execution_count": null,
   "metadata": {
    "colab": {
     "base_uri": "https://localhost:8080/",
     "height": 238
    },
    "executionInfo": {
     "elapsed": 40,
     "status": "ok",
     "timestamp": 1751330572292,
     "user": {
      "displayName": "Arman Ahmadi",
      "userId": "01898720231371550914"
     },
     "user_tz": 420
    },
    "id": "rQtA5pAMLd69",
    "outputId": "00119368-6891-44c7-ec65-4d4870013c49"
   },
   "outputs": [],
   "source": [
    "FI_WI"
   ]
  },
  {
   "cell_type": "code",
   "execution_count": null,
   "metadata": {
    "colab": {
     "base_uri": "https://localhost:8080/",
     "height": 321
    },
    "executionInfo": {
     "elapsed": 418,
     "status": "ok",
     "timestamp": 1751330580526,
     "user": {
      "displayName": "Arman Ahmadi",
      "userId": "01898720231371550914"
     },
     "user_tz": 420
    },
    "id": "YvExvG09Myi6",
    "outputId": "794ec13a-3108-4ab7-d37d-295d0b8a9bf7"
   },
   "outputs": [],
   "source": [
    "df = FI_WI\n",
    "\n",
    "# Define colors for each column\n",
    "colors = ['lightcoral', 'lightgreen', 'gold', 'lightskyblue']\n",
    "\n",
    "# Create figure and axes objects\n",
    "fig, axs = plt.subplots(1, len(df), figsize=(18, 3))\n",
    "\n",
    "# Iterate through each row of the DataFrame\n",
    "for i, row in df.iterrows():\n",
    "    # Extract WI and numeric values for each row\n",
    "    pft = row['WI']\n",
    "    values = row[['T_air', 'CO2', 'SW', 'EF']].tolist()\n",
    "\n",
    "    # Create pie chart for each row\n",
    "    axs[i].pie(values, labels=['T_air', 'CO2', 'SW', 'EF'], colors=colors, autopct='%1.1f%%', startangle=140)\n",
    "    axs[i].set_title(pft)\n",
    "\n",
    "# Adjust layout\n",
    "plt.tight_layout()\n",
    "\n",
    "\n",
    "# plt.savefig('Pie_WI.jpg', dpi=400)"
   ]
  },
  {
   "cell_type": "markdown",
   "metadata": {
    "id": "uuZDFn_S2rRU"
   },
   "source": [
    "### Trend Analysis"
   ]
  },
  {
   "cell_type": "markdown",
   "metadata": {
    "id": "MWIl6kFFyUQx"
   },
   "source": [
    "#### Data Loading and Preparation"
   ]
  },
  {
   "cell_type": "code",
   "execution_count": null,
   "metadata": {
    "id": "EXfdGK-t278e"
   },
   "outputs": [],
   "source": [
    "# Load ERA5 Data\n",
    "\n",
    "path = DATA_DIR / 'ERA5'\n",
    "all_files = glob.glob(str(path / '*.csv'))\n",
    "\n",
    "ERA5 = []\n",
    "\n",
    "for filename in all_files:\n",
    "    df = pd.read_csv(filename, index_col=None, header=0)\n",
    "\n",
    "    # Extract SiteID from the filename (assuming the format is \"AMF_XX-XXX_...\")\n",
    "    site_id = filename.split('_')[1]\n",
    "\n",
    "    # Add a new column \"SiteID\" with the extracted value\n",
    "    df['SiteID'] = site_id\n",
    "\n",
    "    ERA5.append(df)"
   ]
  },
  {
   "cell_type": "code",
   "execution_count": null,
   "metadata": {
    "id": "emYRM-8T58hG"
   },
   "outputs": [],
   "source": [
    "# TIMESTAMP to datetime\n",
    "\n",
    "for i in range(len(ERA5)):\n",
    "  ERA5[i]['TIMESTAMP'] = pd.to_datetime(ERA5[i]['TIMESTAMP'], format='%Y%m') # YYYYMM"
   ]
  },
  {
   "cell_type": "code",
   "execution_count": null,
   "metadata": {
    "id": "mOJOAqC_SRRP"
   },
   "outputs": [],
   "source": [
    "# Select May to September\n",
    "\n",
    "for i in range(len(ERA5)):\n",
    "  mask = (ERA5[i]['TIMESTAMP'].dt.month >= 5) & (ERA5[i]['TIMESTAMP'].dt.month <= 9)\n",
    "  ERA5[i] = ERA5[i][mask]"
   ]
  },
  {
   "cell_type": "code",
   "execution_count": null,
   "metadata": {
    "id": "aDntqg_rUJ_-"
   },
   "outputs": [],
   "source": [
    "# Select and rename the desired columns\n",
    "\n",
    "for i in range(len(ERA5)):\n",
    "  ERA5[i] = ERA5[i][['TIMESTAMP', 'SiteID', 'TA_ERA_DAY']]\n",
    "  ERA5[i].columns = ['Date', 'SiteID', 'T_air_day']"
   ]
  },
  {
   "cell_type": "code",
   "execution_count": null,
   "metadata": {
    "id": "gsnsUwthTivK"
   },
   "outputs": [],
   "source": [
    "# Get the average T_air_day for months 5 to 9 for each year\n",
    "\n",
    "for i in range(len(ERA5)):\n",
    "  ERA5[i]['Year'] = ERA5[i]['Date'].dt.year\n",
    "  ERA5[i] = ERA5[i].groupby(['Year', 'SiteID'])['T_air_day'].mean().reset_index()"
   ]
  },
  {
   "cell_type": "code",
   "execution_count": null,
   "metadata": {
    "colab": {
     "base_uri": "https://localhost:8080/",
     "height": 206
    },
    "executionInfo": {
     "elapsed": 32,
     "status": "ok",
     "timestamp": 1751330791283,
     "user": {
      "displayName": "Arman Ahmadi",
      "userId": "01898720231371550914"
     },
     "user_tz": 420
    },
    "id": "r3z7qwJjcOd8",
    "outputId": "4787b609-6aa5-4cd9-c59c-cff990e19a17"
   },
   "outputs": [],
   "source": [
    "ERA5[0].head()"
   ]
  },
  {
   "cell_type": "markdown",
   "metadata": {
    "id": "8uMWfPDqyeVF"
   },
   "source": [
    "#### Mann-Kendall Test"
   ]
  },
  {
   "cell_type": "code",
   "execution_count": null,
   "metadata": {
    "colab": {
     "base_uri": "https://localhost:8080/"
    },
    "executionInfo": {
     "elapsed": 6728,
     "status": "ok",
     "timestamp": 1751330813302,
     "user": {
      "displayName": "Arman Ahmadi",
      "userId": "01898720231371550914"
     },
     "user_tz": 420
    },
    "id": "U3xiEkE5b08M",
    "outputId": "3c374906-e983-4c41-d44f-e77b95160295"
   },
   "outputs": [],
   "source": [
    "# pymannkendall library\n",
    "\n",
    "import pymannkendall as mk"
   ]
  },
  {
   "cell_type": "code",
   "execution_count": null,
   "metadata": {
    "id": "ios38PzErdHc"
   },
   "outputs": [],
   "source": [
    "records = []\n",
    "\n",
    "# Iterate over each DataFrame in ERA5 list\n",
    "for df in ERA5:\n",
    "    # Get the SiteID from the DataFrame\n",
    "    site_id = df['SiteID'].iloc[0] # get the SiteID from the first row\n",
    "\n",
    "    # Perform Mann-Kendall test\n",
    "    result = mk.original_test(df['T_air_day'])\n",
    "\n",
    "    # Extract Z and p-values\n",
    "    Z = result.z\n",
    "    p = result.p\n",
    "\n",
    "    # Append SiteID, Z, and p-values to MK_trend DataFrame\n",
    "    records.append({'SiteID': site_id, 'Z': Z, 'P': p})\n",
    "\n",
    "MK_trend = pd.DataFrame(records)"
   ]
  },
  {
   "cell_type": "code",
   "execution_count": null,
   "metadata": {
    "id": "wJuR8Z30wvrZ"
   },
   "outputs": [],
   "source": [
    "# Ameriflux191 = pd.read_csv(DATA_DIR/'Ameriflux_fluxnet_list_191.csv', index_col=None, header=0)"
   ]
  },
  {
   "cell_type": "code",
   "execution_count": null,
   "metadata": {
    "id": "AYQNTBtfw9Xb"
   },
   "outputs": [],
   "source": [
    "# Merge the two DataFrames based on 'SiteID'\n",
    "\n",
    "merging_columns = ['SiteID','IGBP', 'Koppen', 'Wetness_Index']\n",
    "MK_trend = pd.merge(MK_trend, Ameriflux191[merging_columns], on='SiteID', how='left')"
   ]
  },
  {
   "cell_type": "code",
   "execution_count": null,
   "metadata": {
    "id": "12lLAmMKySkP"
   },
   "outputs": [],
   "source": [
    "MK_trend['PFT'] = MK_trend['IGBP'].replace({'WSA': 'SAV', 'CSH': 'SHR', 'OSH': 'SHR'})"
   ]
  },
  {
   "cell_type": "code",
   "execution_count": null,
   "metadata": {
    "id": "sFeB0QS0ydKD"
   },
   "outputs": [],
   "source": [
    "MK_trend['Climate'] = MK_trend['Koppen'].replace({'Dfb': 'HC', 'Dfa': 'HC', 'Dsb': 'HC', 'Dsa': 'HC',\\\n",
    "                                                  'Cfa': 'HS', 'Dfc': 'S', 'Dfd': 'S', 'Dwc': 'S',\\\n",
    "                                                  'Csa': 'M', 'Csb': 'M', 'Bsk': 'SA', 'Bsh': 'SA',\\\n",
    "                                                  'ET': 'T', 'Cfb': 'O', 'Bwk': 'A', 'Bwh': 'A'})"
   ]
  },
  {
   "cell_type": "code",
   "execution_count": null,
   "metadata": {
    "colab": {
     "base_uri": "https://localhost:8080/",
     "height": 206
    },
    "executionInfo": {
     "elapsed": 44,
     "status": "ok",
     "timestamp": 1751330884566,
     "user": {
      "displayName": "Arman Ahmadi",
      "userId": "01898720231371550914"
     },
     "user_tz": 420
    },
    "id": "5Fa-4EU4xLbs",
    "outputId": "bfa231d3-01fc-431a-af61-2e781c51eec8"
   },
   "outputs": [],
   "source": [
    "MK_trend.head()"
   ]
  },
  {
   "cell_type": "code",
   "execution_count": null,
   "metadata": {
    "colab": {
     "base_uri": "https://localhost:8080/",
     "height": 294
    },
    "executionInfo": {
     "elapsed": 329,
     "status": "ok",
     "timestamp": 1751330902783,
     "user": {
      "displayName": "Arman Ahmadi",
      "userId": "01898720231371550914"
     },
     "user_tz": 420
    },
    "id": "Da_e984uz9TV",
    "outputId": "64dfe486-cfff-4373-daf7-537297069646"
   },
   "outputs": [],
   "source": [
    "## Create a new boolean column indicating whether P value is less than 0.05\n",
    "MK_trend['Significant'] = MK_trend['P'] < 0.05\n",
    "\n",
    "# Define a custom color palette for significant and non-significant Z values\n",
    "palette = {True: 'blue', False: 'red'}\n",
    "\n",
    "# Create the swarmplot\n",
    "plt.figure(figsize=(7.5, 3))\n",
    "sns.swarmplot(data=MK_trend, x='PFT', y='Z', hue='Significant', palette=palette, s=6)\n",
    "\n",
    "plt.legend().remove()\n",
    "\n",
    "# Add labels and title\n",
    "plt.xlabel('')\n",
    "plt.ylabel('Z value')\n",
    "plt.title('Wetness Index')\n",
    "plt.grid(axis='y', linestyle='--')\n",
    "\n",
    "plt.tick_params(bottom=True, left=True)\n",
    "plt.tight_layout()\n",
    "\n",
    "# plt.savefig('MKTest_WI.jpg', dpi=400)"
   ]
  },
  {
   "cell_type": "markdown",
   "metadata": {
    "id": "HzIWoa6QTeLM"
   },
   "source": [
    "### Thermal Acclimation of Photosynthesis"
   ]
  },
  {
   "cell_type": "code",
   "execution_count": null,
   "metadata": {
    "id": "dLzLQkdoaajQ"
   },
   "outputs": [],
   "source": [
    "# Get unique SiteID values as an np array\n",
    "unique_site_ids = Allsites['SiteID'].unique()\n",
    "\n",
    "# List to store the results\n",
    "results = []\n",
    "\n",
    "# Iterate over each unique SiteID\n",
    "for site_id in unique_site_ids:\n",
    "\n",
    "    # Filter the DataFrame for the current SiteID\n",
    "    subset_df = Allsites[Allsites['SiteID'] == site_id]\n",
    "\n",
    "    # Sort subset by GPP in descending order\n",
    "    sorted_subset = subset_df.sort_values(by='GPP_day', ascending=False)\n",
    "\n",
    "    # Calculate the number of top 10% records\n",
    "    number_of_records = len(sorted_subset)\n",
    "    top_10_percent_count = max(1, int(number_of_records * 0.10))\n",
    "\n",
    "    # Select the top 10% of records\n",
    "    top_10_percent_df = sorted_subset.head(top_10_percent_count)\n",
    "\n",
    "    # Calculate the average of T_air for these records\n",
    "    Opt_T_air = top_10_percent_df['T_air'].mean()\n",
    "\n",
    "    # Calculate the weighted average of T_air\n",
    "    W_avg_T_air = (subset_df.T_air * subset_df.GPP_day).sum() / subset_df.GPP_day.sum()\n",
    "\n",
    "    # Append to results\n",
    "    results.append({'SiteID': site_id, 'Opt_T_air': Opt_T_air, 'W_avg_T_air': W_avg_T_air})\n",
    "\n",
    "# Create a new DataFrame from the results\n",
    "T_air_df = pd.DataFrame(results)"
   ]
  },
  {
   "cell_type": "code",
   "execution_count": null,
   "metadata": {
    "colab": {
     "base_uri": "https://localhost:8080/",
     "height": 206
    },
    "executionInfo": {
     "elapsed": 23,
     "status": "ok",
     "timestamp": 1751331063633,
     "user": {
      "displayName": "Arman Ahmadi",
      "userId": "01898720231371550914"
     },
     "user_tz": 420
    },
    "id": "9QGdzORRkAoq",
    "outputId": "5a53d428-4c4d-4c31-eb58-b51c19274d88"
   },
   "outputs": [],
   "source": [
    "T_air_df.head()"
   ]
  },
  {
   "cell_type": "code",
   "execution_count": null,
   "metadata": {
    "id": "NPdP0HBEnqOr"
   },
   "outputs": [],
   "source": [
    "from sklearn.metrics import mean_squared_error, r2_score\n",
    "from math import sqrt\n",
    "from scipy.stats import linregress"
   ]
  },
  {
   "cell_type": "code",
   "execution_count": null,
   "metadata": {
    "id": "xOSG0c6pn3zq"
   },
   "outputs": [],
   "source": [
    "rmse = sqrt(mean_squared_error(T_air_df.W_avg_T_air, T_air_df.Opt_T_air))\n",
    "\n",
    "r2 = r2_score(T_air_df.W_avg_T_air, T_air_df.Opt_T_air)"
   ]
  },
  {
   "cell_type": "code",
   "execution_count": null,
   "metadata": {
    "colab": {
     "base_uri": "https://localhost:8080/",
     "height": 391
    },
    "executionInfo": {
     "elapsed": 214,
     "status": "ok",
     "timestamp": 1751331084821,
     "user": {
      "displayName": "Arman Ahmadi",
      "userId": "01898720231371550914"
     },
     "user_tz": 420
    },
    "id": "SOoVzqWFwEEs",
    "outputId": "8749d9be-0f55-4d17-c095-d3912b48a814"
   },
   "outputs": [],
   "source": [
    "# Perform linear regression\n",
    "slope, intercept, r_value, p_value, std_err = linregress(T_air_df.W_avg_T_air, T_air_df.Opt_T_air)\n",
    "\n",
    "# Create scatter plot\n",
    "fig, ax = plt.subplots(figsize=(5, 4))\n",
    "plt.scatter(T_air_df.W_avg_T_air, T_air_df.Opt_T_air, alpha=0.7, s=20)\n",
    "\n",
    "# Plot regression line\n",
    "x_vals = np.array(ax.get_xlim())\n",
    "y_vals = intercept + slope * x_vals\n",
    "plt.plot(x_vals, y_vals, '--', color='red', linewidth=2, label=f'Regression line\\ny = {slope:.2f}X + {intercept:.2f}')\n",
    "\n",
    "# Add labels and title\n",
    "plt.xlabel('GPP-weighted average T_air (deg.C)')\n",
    "plt.ylabel('Optimum T_air (deg.C)')\n",
    "plt.title('')\n",
    "\n",
    "# Add R-squared annotation\n",
    "plt.annotate(f'R²= {r_value**2:.2f}', xy=(0.02, 0.9), xycoords='axes fraction', fontsize=12)\n",
    "\n",
    "# Add legend\n",
    "plt.legend()\n",
    "\n",
    "plt.tight_layout()\n",
    "\n",
    "# Save or show the plot\n",
    "# plt.savefig('Optimum_vs_average_T_air.jpg', dpi=400)"
   ]
  }
 ],
 "metadata": {
  "colab": {
   "provenance": []
  },
  "kernelspec": {
   "display_name": ".venv",
   "language": "python",
   "name": "python3"
  },
  "language_info": {
   "codemirror_mode": {
    "name": "ipython",
    "version": 3
   },
   "file_extension": ".py",
   "mimetype": "text/x-python",
   "name": "python",
   "nbconvert_exporter": "python",
   "pygments_lexer": "ipython3",
   "version": "3.13.7"
  },
  "widgets": {
   "application/vnd.jupyter.widget-state+json": {
    "0a8df1fbe32c494799e4f79b84fe9d5f": {
     "model_module": "@jupyter-widgets/controls",
     "model_module_version": "1.5.0",
     "model_name": "DescriptionStyleModel",
     "state": {
      "_model_module": "@jupyter-widgets/controls",
      "_model_module_version": "1.5.0",
      "_model_name": "DescriptionStyleModel",
      "_view_count": null,
      "_view_module": "@jupyter-widgets/base",
      "_view_module_version": "1.2.0",
      "_view_name": "StyleView",
      "description_width": ""
     }
    },
    "0b00bbf8f2d649649d17b04055eab07b": {
     "model_module": "@jupyter-widgets/controls",
     "model_module_version": "1.5.0",
     "model_name": "HTMLModel",
     "state": {
      "_dom_classes": [],
      "_model_module": "@jupyter-widgets/controls",
      "_model_module_version": "1.5.0",
      "_model_name": "HTMLModel",
      "_view_count": null,
      "_view_module": "@jupyter-widgets/controls",
      "_view_module_version": "1.5.0",
      "_view_name": "HTMLView",
      "description": "",
      "description_tooltip": null,
      "layout": "IPY_MODEL_1a8806af1a634b6c8c8bfa172f806d4f",
      "placeholder": "​",
      "style": "IPY_MODEL_0a8df1fbe32c494799e4f79b84fe9d5f",
      "value": "100%"
     }
    },
    "0d846fefeae04e08a1e0257121b82677": {
     "model_module": "@jupyter-widgets/base",
     "model_module_version": "1.2.0",
     "model_name": "LayoutModel",
     "state": {
      "_model_module": "@jupyter-widgets/base",
      "_model_module_version": "1.2.0",
      "_model_name": "LayoutModel",
      "_view_count": null,
      "_view_module": "@jupyter-widgets/base",
      "_view_module_version": "1.2.0",
      "_view_name": "LayoutView",
      "align_content": null,
      "align_items": null,
      "align_self": null,
      "border": null,
      "bottom": null,
      "display": null,
      "flex": null,
      "flex_flow": null,
      "grid_area": null,
      "grid_auto_columns": null,
      "grid_auto_flow": null,
      "grid_auto_rows": null,
      "grid_column": null,
      "grid_gap": null,
      "grid_row": null,
      "grid_template_areas": null,
      "grid_template_columns": null,
      "grid_template_rows": null,
      "height": null,
      "justify_content": null,
      "justify_items": null,
      "left": null,
      "margin": null,
      "max_height": null,
      "max_width": null,
      "min_height": null,
      "min_width": null,
      "object_fit": null,
      "object_position": null,
      "order": null,
      "overflow": null,
      "overflow_x": null,
      "overflow_y": null,
      "padding": null,
      "right": null,
      "top": null,
      "visibility": null,
      "width": null
     }
    },
    "1a8806af1a634b6c8c8bfa172f806d4f": {
     "model_module": "@jupyter-widgets/base",
     "model_module_version": "1.2.0",
     "model_name": "LayoutModel",
     "state": {
      "_model_module": "@jupyter-widgets/base",
      "_model_module_version": "1.2.0",
      "_model_name": "LayoutModel",
      "_view_count": null,
      "_view_module": "@jupyter-widgets/base",
      "_view_module_version": "1.2.0",
      "_view_name": "LayoutView",
      "align_content": null,
      "align_items": null,
      "align_self": null,
      "border": null,
      "bottom": null,
      "display": null,
      "flex": null,
      "flex_flow": null,
      "grid_area": null,
      "grid_auto_columns": null,
      "grid_auto_flow": null,
      "grid_auto_rows": null,
      "grid_column": null,
      "grid_gap": null,
      "grid_row": null,
      "grid_template_areas": null,
      "grid_template_columns": null,
      "grid_template_rows": null,
      "height": null,
      "justify_content": null,
      "justify_items": null,
      "left": null,
      "margin": null,
      "max_height": null,
      "max_width": null,
      "min_height": null,
      "min_width": null,
      "object_fit": null,
      "object_position": null,
      "order": null,
      "overflow": null,
      "overflow_x": null,
      "overflow_y": null,
      "padding": null,
      "right": null,
      "top": null,
      "visibility": null,
      "width": null
     }
    },
    "3654140d9ad04eb6a4ac5a9560e26d9d": {
     "model_module": "@jupyter-widgets/base",
     "model_module_version": "1.2.0",
     "model_name": "LayoutModel",
     "state": {
      "_model_module": "@jupyter-widgets/base",
      "_model_module_version": "1.2.0",
      "_model_name": "LayoutModel",
      "_view_count": null,
      "_view_module": "@jupyter-widgets/base",
      "_view_module_version": "1.2.0",
      "_view_name": "LayoutView",
      "align_content": null,
      "align_items": null,
      "align_self": null,
      "border": null,
      "bottom": null,
      "display": null,
      "flex": null,
      "flex_flow": null,
      "grid_area": null,
      "grid_auto_columns": null,
      "grid_auto_flow": null,
      "grid_auto_rows": null,
      "grid_column": null,
      "grid_gap": null,
      "grid_row": null,
      "grid_template_areas": null,
      "grid_template_columns": null,
      "grid_template_rows": null,
      "height": null,
      "justify_content": null,
      "justify_items": null,
      "left": null,
      "margin": null,
      "max_height": null,
      "max_width": null,
      "min_height": null,
      "min_width": null,
      "object_fit": null,
      "object_position": null,
      "order": null,
      "overflow": null,
      "overflow_x": null,
      "overflow_y": null,
      "padding": null,
      "right": null,
      "top": null,
      "visibility": null,
      "width": null
     }
    },
    "38a12a4837bb4d4cac49e0654f91f4f5": {
     "model_module": "@jupyter-widgets/controls",
     "model_module_version": "1.5.0",
     "model_name": "HBoxModel",
     "state": {
      "_dom_classes": [],
      "_model_module": "@jupyter-widgets/controls",
      "_model_module_version": "1.5.0",
      "_model_name": "HBoxModel",
      "_view_count": null,
      "_view_module": "@jupyter-widgets/controls",
      "_view_module_version": "1.5.0",
      "_view_name": "HBoxView",
      "box_style": "",
      "children": [
       "IPY_MODEL_0b00bbf8f2d649649d17b04055eab07b",
       "IPY_MODEL_3b4ee87a31014401b45c6eea90683b32",
       "IPY_MODEL_af8150fe94914131899a15ef7efb2330"
      ],
      "layout": "IPY_MODEL_c30ad9f46e944a64bee3fba432325444"
     }
    },
    "3b4ee87a31014401b45c6eea90683b32": {
     "model_module": "@jupyter-widgets/controls",
     "model_module_version": "1.5.0",
     "model_name": "FloatProgressModel",
     "state": {
      "_dom_classes": [],
      "_model_module": "@jupyter-widgets/controls",
      "_model_module_version": "1.5.0",
      "_model_name": "FloatProgressModel",
      "_view_count": null,
      "_view_module": "@jupyter-widgets/controls",
      "_view_module_version": "1.5.0",
      "_view_name": "ProgressView",
      "bar_style": "success",
      "description": "",
      "description_tooltip": null,
      "layout": "IPY_MODEL_5f60602d143f476c9ff8fac82e097f48",
      "max": 108,
      "min": 0,
      "orientation": "horizontal",
      "style": "IPY_MODEL_dd6ee13e526b42ada46ac72bd2d1d0ef",
      "value": 108
     }
    },
    "3d6f7f26f38743098b3964bc0548db84": {
     "model_module": "@jupyter-widgets/controls",
     "model_module_version": "1.5.0",
     "model_name": "HBoxModel",
     "state": {
      "_dom_classes": [],
      "_model_module": "@jupyter-widgets/controls",
      "_model_module_version": "1.5.0",
      "_model_name": "HBoxModel",
      "_view_count": null,
      "_view_module": "@jupyter-widgets/controls",
      "_view_module_version": "1.5.0",
      "_view_name": "HBoxView",
      "box_style": "",
      "children": [
       "IPY_MODEL_695294bf1c4242f3a96ce32c0bc1731f",
       "IPY_MODEL_edefaefa081549b787f2ddda8a117c0c",
       "IPY_MODEL_8c9b8071c2844a51be4b0941caeffcd8"
      ],
      "layout": "IPY_MODEL_3654140d9ad04eb6a4ac5a9560e26d9d"
     }
    },
    "4d69262d136f4f09b5951a4ba5d6bea5": {
     "model_module": "@jupyter-widgets/base",
     "model_module_version": "1.2.0",
     "model_name": "LayoutModel",
     "state": {
      "_model_module": "@jupyter-widgets/base",
      "_model_module_version": "1.2.0",
      "_model_name": "LayoutModel",
      "_view_count": null,
      "_view_module": "@jupyter-widgets/base",
      "_view_module_version": "1.2.0",
      "_view_name": "LayoutView",
      "align_content": null,
      "align_items": null,
      "align_self": null,
      "border": null,
      "bottom": null,
      "display": null,
      "flex": null,
      "flex_flow": null,
      "grid_area": null,
      "grid_auto_columns": null,
      "grid_auto_flow": null,
      "grid_auto_rows": null,
      "grid_column": null,
      "grid_gap": null,
      "grid_row": null,
      "grid_template_areas": null,
      "grid_template_columns": null,
      "grid_template_rows": null,
      "height": null,
      "justify_content": null,
      "justify_items": null,
      "left": null,
      "margin": null,
      "max_height": null,
      "max_width": null,
      "min_height": null,
      "min_width": null,
      "object_fit": null,
      "object_position": null,
      "order": null,
      "overflow": null,
      "overflow_x": null,
      "overflow_y": null,
      "padding": null,
      "right": null,
      "top": null,
      "visibility": null,
      "width": null
     }
    },
    "5d70f35f09614cbe9e64b754f3ba2010": {
     "model_module": "@jupyter-widgets/controls",
     "model_module_version": "1.5.0",
     "model_name": "ProgressStyleModel",
     "state": {
      "_model_module": "@jupyter-widgets/controls",
      "_model_module_version": "1.5.0",
      "_model_name": "ProgressStyleModel",
      "_view_count": null,
      "_view_module": "@jupyter-widgets/base",
      "_view_module_version": "1.2.0",
      "_view_name": "StyleView",
      "bar_color": null,
      "description_width": ""
     }
    },
    "5f60602d143f476c9ff8fac82e097f48": {
     "model_module": "@jupyter-widgets/base",
     "model_module_version": "1.2.0",
     "model_name": "LayoutModel",
     "state": {
      "_model_module": "@jupyter-widgets/base",
      "_model_module_version": "1.2.0",
      "_model_name": "LayoutModel",
      "_view_count": null,
      "_view_module": "@jupyter-widgets/base",
      "_view_module_version": "1.2.0",
      "_view_name": "LayoutView",
      "align_content": null,
      "align_items": null,
      "align_self": null,
      "border": null,
      "bottom": null,
      "display": null,
      "flex": null,
      "flex_flow": null,
      "grid_area": null,
      "grid_auto_columns": null,
      "grid_auto_flow": null,
      "grid_auto_rows": null,
      "grid_column": null,
      "grid_gap": null,
      "grid_row": null,
      "grid_template_areas": null,
      "grid_template_columns": null,
      "grid_template_rows": null,
      "height": null,
      "justify_content": null,
      "justify_items": null,
      "left": null,
      "margin": null,
      "max_height": null,
      "max_width": null,
      "min_height": null,
      "min_width": null,
      "object_fit": null,
      "object_position": null,
      "order": null,
      "overflow": null,
      "overflow_x": null,
      "overflow_y": null,
      "padding": null,
      "right": null,
      "top": null,
      "visibility": null,
      "width": null
     }
    },
    "695294bf1c4242f3a96ce32c0bc1731f": {
     "model_module": "@jupyter-widgets/controls",
     "model_module_version": "1.5.0",
     "model_name": "HTMLModel",
     "state": {
      "_dom_classes": [],
      "_model_module": "@jupyter-widgets/controls",
      "_model_module_version": "1.5.0",
      "_model_name": "HTMLModel",
      "_view_count": null,
      "_view_module": "@jupyter-widgets/controls",
      "_view_module_version": "1.5.0",
      "_view_name": "HTMLView",
      "description": "",
      "description_tooltip": null,
      "layout": "IPY_MODEL_0d846fefeae04e08a1e0257121b82677",
      "placeholder": "​",
      "style": "IPY_MODEL_f1461b57c2b94d1eab179cd898c12ce0",
      "value": "100%"
     }
    },
    "8a8d782b778b4035bb7e1b338a478a51": {
     "model_module": "@jupyter-widgets/base",
     "model_module_version": "1.2.0",
     "model_name": "LayoutModel",
     "state": {
      "_model_module": "@jupyter-widgets/base",
      "_model_module_version": "1.2.0",
      "_model_name": "LayoutModel",
      "_view_count": null,
      "_view_module": "@jupyter-widgets/base",
      "_view_module_version": "1.2.0",
      "_view_name": "LayoutView",
      "align_content": null,
      "align_items": null,
      "align_self": null,
      "border": null,
      "bottom": null,
      "display": null,
      "flex": null,
      "flex_flow": null,
      "grid_area": null,
      "grid_auto_columns": null,
      "grid_auto_flow": null,
      "grid_auto_rows": null,
      "grid_column": null,
      "grid_gap": null,
      "grid_row": null,
      "grid_template_areas": null,
      "grid_template_columns": null,
      "grid_template_rows": null,
      "height": null,
      "justify_content": null,
      "justify_items": null,
      "left": null,
      "margin": null,
      "max_height": null,
      "max_width": null,
      "min_height": null,
      "min_width": null,
      "object_fit": null,
      "object_position": null,
      "order": null,
      "overflow": null,
      "overflow_x": null,
      "overflow_y": null,
      "padding": null,
      "right": null,
      "top": null,
      "visibility": null,
      "width": null
     }
    },
    "8c9b8071c2844a51be4b0941caeffcd8": {
     "model_module": "@jupyter-widgets/controls",
     "model_module_version": "1.5.0",
     "model_name": "HTMLModel",
     "state": {
      "_dom_classes": [],
      "_model_module": "@jupyter-widgets/controls",
      "_model_module_version": "1.5.0",
      "_model_name": "HTMLModel",
      "_view_count": null,
      "_view_module": "@jupyter-widgets/controls",
      "_view_module_version": "1.5.0",
      "_view_name": "HTMLView",
      "description": "",
      "description_tooltip": null,
      "layout": "IPY_MODEL_4d69262d136f4f09b5951a4ba5d6bea5",
      "placeholder": "​",
      "style": "IPY_MODEL_97eaabb963304f56a855352b4b5e21ca",
      "value": " 108/108 [10:01&lt;00:00,  4.59s/it]"
     }
    },
    "97eaabb963304f56a855352b4b5e21ca": {
     "model_module": "@jupyter-widgets/controls",
     "model_module_version": "1.5.0",
     "model_name": "DescriptionStyleModel",
     "state": {
      "_model_module": "@jupyter-widgets/controls",
      "_model_module_version": "1.5.0",
      "_model_name": "DescriptionStyleModel",
      "_view_count": null,
      "_view_module": "@jupyter-widgets/base",
      "_view_module_version": "1.2.0",
      "_view_name": "StyleView",
      "description_width": ""
     }
    },
    "af8150fe94914131899a15ef7efb2330": {
     "model_module": "@jupyter-widgets/controls",
     "model_module_version": "1.5.0",
     "model_name": "HTMLModel",
     "state": {
      "_dom_classes": [],
      "_model_module": "@jupyter-widgets/controls",
      "_model_module_version": "1.5.0",
      "_model_name": "HTMLModel",
      "_view_count": null,
      "_view_module": "@jupyter-widgets/controls",
      "_view_module_version": "1.5.0",
      "_view_name": "HTMLView",
      "description": "",
      "description_tooltip": null,
      "layout": "IPY_MODEL_8a8d782b778b4035bb7e1b338a478a51",
      "placeholder": "​",
      "style": "IPY_MODEL_bf0c173b7f534fdd8b5319ee360020b8",
      "value": " 108/108 [00:35&lt;00:00,  6.54it/s]"
     }
    },
    "bf0c173b7f534fdd8b5319ee360020b8": {
     "model_module": "@jupyter-widgets/controls",
     "model_module_version": "1.5.0",
     "model_name": "DescriptionStyleModel",
     "state": {
      "_model_module": "@jupyter-widgets/controls",
      "_model_module_version": "1.5.0",
      "_model_name": "DescriptionStyleModel",
      "_view_count": null,
      "_view_module": "@jupyter-widgets/base",
      "_view_module_version": "1.2.0",
      "_view_name": "StyleView",
      "description_width": ""
     }
    },
    "c30ad9f46e944a64bee3fba432325444": {
     "model_module": "@jupyter-widgets/base",
     "model_module_version": "1.2.0",
     "model_name": "LayoutModel",
     "state": {
      "_model_module": "@jupyter-widgets/base",
      "_model_module_version": "1.2.0",
      "_model_name": "LayoutModel",
      "_view_count": null,
      "_view_module": "@jupyter-widgets/base",
      "_view_module_version": "1.2.0",
      "_view_name": "LayoutView",
      "align_content": null,
      "align_items": null,
      "align_self": null,
      "border": null,
      "bottom": null,
      "display": null,
      "flex": null,
      "flex_flow": null,
      "grid_area": null,
      "grid_auto_columns": null,
      "grid_auto_flow": null,
      "grid_auto_rows": null,
      "grid_column": null,
      "grid_gap": null,
      "grid_row": null,
      "grid_template_areas": null,
      "grid_template_columns": null,
      "grid_template_rows": null,
      "height": null,
      "justify_content": null,
      "justify_items": null,
      "left": null,
      "margin": null,
      "max_height": null,
      "max_width": null,
      "min_height": null,
      "min_width": null,
      "object_fit": null,
      "object_position": null,
      "order": null,
      "overflow": null,
      "overflow_x": null,
      "overflow_y": null,
      "padding": null,
      "right": null,
      "top": null,
      "visibility": null,
      "width": null
     }
    },
    "dd6ee13e526b42ada46ac72bd2d1d0ef": {
     "model_module": "@jupyter-widgets/controls",
     "model_module_version": "1.5.0",
     "model_name": "ProgressStyleModel",
     "state": {
      "_model_module": "@jupyter-widgets/controls",
      "_model_module_version": "1.5.0",
      "_model_name": "ProgressStyleModel",
      "_view_count": null,
      "_view_module": "@jupyter-widgets/base",
      "_view_module_version": "1.2.0",
      "_view_name": "StyleView",
      "bar_color": null,
      "description_width": ""
     }
    },
    "edefaefa081549b787f2ddda8a117c0c": {
     "model_module": "@jupyter-widgets/controls",
     "model_module_version": "1.5.0",
     "model_name": "FloatProgressModel",
     "state": {
      "_dom_classes": [],
      "_model_module": "@jupyter-widgets/controls",
      "_model_module_version": "1.5.0",
      "_model_name": "FloatProgressModel",
      "_view_count": null,
      "_view_module": "@jupyter-widgets/controls",
      "_view_module_version": "1.5.0",
      "_view_name": "ProgressView",
      "bar_style": "success",
      "description": "",
      "description_tooltip": null,
      "layout": "IPY_MODEL_f6095cd922ba4a92aa80accf4541d5d7",
      "max": 108,
      "min": 0,
      "orientation": "horizontal",
      "style": "IPY_MODEL_5d70f35f09614cbe9e64b754f3ba2010",
      "value": 108
     }
    },
    "f1461b57c2b94d1eab179cd898c12ce0": {
     "model_module": "@jupyter-widgets/controls",
     "model_module_version": "1.5.0",
     "model_name": "DescriptionStyleModel",
     "state": {
      "_model_module": "@jupyter-widgets/controls",
      "_model_module_version": "1.5.0",
      "_model_name": "DescriptionStyleModel",
      "_view_count": null,
      "_view_module": "@jupyter-widgets/base",
      "_view_module_version": "1.2.0",
      "_view_name": "StyleView",
      "description_width": ""
     }
    },
    "f6095cd922ba4a92aa80accf4541d5d7": {
     "model_module": "@jupyter-widgets/base",
     "model_module_version": "1.2.0",
     "model_name": "LayoutModel",
     "state": {
      "_model_module": "@jupyter-widgets/base",
      "_model_module_version": "1.2.0",
      "_model_name": "LayoutModel",
      "_view_count": null,
      "_view_module": "@jupyter-widgets/base",
      "_view_module_version": "1.2.0",
      "_view_name": "LayoutView",
      "align_content": null,
      "align_items": null,
      "align_self": null,
      "border": null,
      "bottom": null,
      "display": null,
      "flex": null,
      "flex_flow": null,
      "grid_area": null,
      "grid_auto_columns": null,
      "grid_auto_flow": null,
      "grid_auto_rows": null,
      "grid_column": null,
      "grid_gap": null,
      "grid_row": null,
      "grid_template_areas": null,
      "grid_template_columns": null,
      "grid_template_rows": null,
      "height": null,
      "justify_content": null,
      "justify_items": null,
      "left": null,
      "margin": null,
      "max_height": null,
      "max_width": null,
      "min_height": null,
      "min_width": null,
      "object_fit": null,
      "object_position": null,
      "order": null,
      "overflow": null,
      "overflow_x": null,
      "overflow_y": null,
      "padding": null,
      "right": null,
      "top": null,
      "visibility": null,
      "width": null
     }
    }
   }
  }
 },
 "nbformat": 4,
 "nbformat_minor": 0
}
